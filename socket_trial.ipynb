{
  "nbformat": 4,
  "nbformat_minor": 0,
  "metadata": {
    "colab": {
      "name": "socket-trial.ipynb",
      "provenance": [],
      "collapsed_sections": [],
      "include_colab_link": true
    },
    "kernelspec": {
      "name": "python3",
      "display_name": "Python 3"
    }
  },
  "cells": [
    {
      "cell_type": "markdown",
      "metadata": {
        "id": "view-in-github",
        "colab_type": "text"
      },
      "source": [
        "<a href=\"https://colab.research.google.com/github/adiratnaa/Data-Communication/blob/main/socket_trial.ipynb\" target=\"_parent\"><img src=\"https://colab.research.google.com/assets/colab-badge.svg\" alt=\"Open In Colab\"/></a>"
      ]
    },
    {
      "cell_type": "code",
      "source": [
        ""
      ],
      "metadata": {
        "id": "I-8gQrIki5Jf"
      },
      "execution_count": null,
      "outputs": []
    },
    {
      "cell_type": "markdown",
      "metadata": {
        "id": "rAbyuBTM0-mH"
      },
      "source": [
        "# Socket Menggunakan Python\n",
        "\n",
        "Tutorial bagaimana memprogram aplikasi jaringan TCP/IP, dengan contoh web (protokol HTTP)."
      ]
    },
    {
      "cell_type": "markdown",
      "metadata": {
        "id": "MRQWTXoq49Jt"
      },
      "source": [
        "## Introduction\n",
        "* Socket : https://docs.python.org/3/library/socket.html\n",
        "* HTTP : https://fr.wikipedia.org/wiki/Hypertext_Transfer_Protocol\n",
        "* Tips : http://aurelien.esnard.emi.u-bordeaux.fr/teaching/doku.php?id=rx3:index\n",
        "* Cours Moodle DIU : https://moodle1.u-bordeaux.fr/course/view.php?id=4713"
      ]
    },
    {
      "cell_type": "markdown",
      "metadata": {
        "id": "2FrMNTkjBvPY"
      },
      "source": [
        "## Memahami Protokol Web (HTTP)\n",
        "\n",
        "Dengan Wireshark, verifikasi bahwa kita memahami :\n",
        "\n",
        "* https://github.com/diu-uf-bordeaux/bloc3/raw/master/reseaux/trace/http.pcap\n",
        "\n",
        "Info lebih lanjut tentang course Moodle: https://moodle1.u-bordeaux.fr/course/view.php?id=4713\n"
      ]
    },
    {
      "cell_type": "markdown",
      "metadata": {
        "id": "f-NP2RX_KYqk"
      },
      "source": [
        "## Request Web\n",
        "\n",
        "Perhatikan contoh situs web: www.perdu.com\n",
        "\n",
        "Mari kita install dulu program *netcat*:\n"
      ]
    },
    {
      "cell_type": "code",
      "metadata": {
        "id": "bvmBkESn90WR",
        "outputId": "c1181980-57b3-44b2-e5bc-f8395d6da7ed",
        "colab": {
          "base_uri": "https://localhost:8080/"
        }
      },
      "source": [
        "! apt-get -q -y install netcat-openbsd"
      ],
      "execution_count": 1,
      "outputs": [
        {
          "output_type": "stream",
          "name": "stdout",
          "text": [
            "Reading package lists...\n",
            "Building dependency tree...\n",
            "Reading state information...\n",
            "The following packages were automatically installed and are no longer required:\n",
            "  cuda-command-line-tools-10-0 cuda-command-line-tools-10-1\n",
            "  cuda-command-line-tools-11-0 cuda-compiler-10-0 cuda-compiler-10-1\n",
            "  cuda-compiler-11-0 cuda-cuobjdump-10-0 cuda-cuobjdump-10-1\n",
            "  cuda-cuobjdump-11-0 cuda-cupti-10-0 cuda-cupti-10-1 cuda-cupti-11-0\n",
            "  cuda-cupti-dev-11-0 cuda-documentation-10-0 cuda-documentation-10-1\n",
            "  cuda-documentation-11-0 cuda-documentation-11-1 cuda-gdb-10-0 cuda-gdb-10-1\n",
            "  cuda-gdb-11-0 cuda-gpu-library-advisor-10-0 cuda-gpu-library-advisor-10-1\n",
            "  cuda-libraries-10-0 cuda-libraries-10-1 cuda-libraries-11-0\n",
            "  cuda-memcheck-10-0 cuda-memcheck-10-1 cuda-memcheck-11-0 cuda-nsight-10-0\n",
            "  cuda-nsight-10-1 cuda-nsight-11-0 cuda-nsight-11-1 cuda-nsight-compute-10-0\n",
            "  cuda-nsight-compute-10-1 cuda-nsight-compute-11-0 cuda-nsight-compute-11-1\n",
            "  cuda-nsight-systems-10-1 cuda-nsight-systems-11-0 cuda-nsight-systems-11-1\n",
            "  cuda-nvcc-10-0 cuda-nvcc-10-1 cuda-nvcc-11-0 cuda-nvdisasm-10-0\n",
            "  cuda-nvdisasm-10-1 cuda-nvdisasm-11-0 cuda-nvml-dev-10-0 cuda-nvml-dev-10-1\n",
            "  cuda-nvml-dev-11-0 cuda-nvprof-10-0 cuda-nvprof-10-1 cuda-nvprof-11-0\n",
            "  cuda-nvprune-10-0 cuda-nvprune-10-1 cuda-nvprune-11-0 cuda-nvtx-10-0\n",
            "  cuda-nvtx-10-1 cuda-nvtx-11-0 cuda-nvvp-10-0 cuda-nvvp-10-1 cuda-nvvp-11-0\n",
            "  cuda-nvvp-11-1 cuda-samples-10-0 cuda-samples-10-1 cuda-samples-11-0\n",
            "  cuda-samples-11-1 cuda-sanitizer-11-0 cuda-sanitizer-api-10-1\n",
            "  cuda-toolkit-10-0 cuda-toolkit-10-1 cuda-toolkit-11-0 cuda-toolkit-11-1\n",
            "  cuda-tools-10-0 cuda-tools-10-1 cuda-tools-11-0 cuda-tools-11-1\n",
            "  cuda-visual-tools-10-0 cuda-visual-tools-10-1 cuda-visual-tools-11-0\n",
            "  cuda-visual-tools-11-1 default-jre dkms freeglut3 freeglut3-dev\n",
            "  keyboard-configuration libargon2-0 libcap2 libcryptsetup12\n",
            "  libdevmapper1.02.1 libfontenc1 libidn11 libip4tc0 libjansson4\n",
            "  libnvidia-cfg1-510 libnvidia-common-460 libnvidia-common-510\n",
            "  libnvidia-extra-510 libnvidia-fbc1-510 libnvidia-gl-510 libpam-systemd\n",
            "  libpolkit-agent-1-0 libpolkit-backend-1-0 libpolkit-gobject-1-0 libxfont2\n",
            "  libxi-dev libxkbfile1 libxmu-dev libxmu-headers libxnvctrl0 libxtst6\n",
            "  nsight-compute-2020.2.1 nsight-compute-2022.1.0 nsight-systems-2020.3.2\n",
            "  nsight-systems-2020.3.4 nsight-systems-2021.5.2 nvidia-dkms-510\n",
            "  nvidia-kernel-common-510 nvidia-kernel-source-510 nvidia-modprobe\n",
            "  nvidia-settings openjdk-11-jre policykit-1 policykit-1-gnome python3-xkit\n",
            "  screen-resolution-extra systemd systemd-sysv udev x11-xkb-utils\n",
            "  xserver-common xserver-xorg-core-hwe-18.04 xserver-xorg-video-nvidia-510\n",
            "Use 'apt autoremove' to remove them.\n",
            "The following NEW packages will be installed:\n",
            "  netcat-openbsd\n",
            "0 upgraded, 1 newly installed, 0 to remove and 39 not upgraded.\n",
            "Need to get 39.8 kB of archives.\n",
            "After this operation, 96.3 kB of additional disk space will be used.\n",
            "Get:1 http://archive.ubuntu.com/ubuntu bionic-updates/main amd64 netcat-openbsd amd64 1.187-1ubuntu0.1 [39.8 kB]\n",
            "Fetched 39.8 kB in 0s (139 kB/s)\n",
            "Selecting previously unselected package netcat-openbsd.\n",
            "(Reading database ... 155113 files and directories currently installed.)\n",
            "Preparing to unpack .../netcat-openbsd_1.187-1ubuntu0.1_amd64.deb ...\n",
            "Unpacking netcat-openbsd (1.187-1ubuntu0.1) ...\n",
            "Setting up netcat-openbsd (1.187-1ubuntu0.1) ...\n",
            "update-alternatives: using /bin/nc.openbsd to provide /bin/nc (nc) in auto mode\n",
            "Processing triggers for man-db (2.8.3-2ubuntu0.1) ...\n"
          ]
        }
      ]
    },
    {
      "cell_type": "markdown",
      "metadata": {
        "id": "9zoUwKzYuOTG"
      },
      "source": [
        "Mari buat permintaan HTTP GET secara manual dengan *netcat* tools :"
      ]
    },
    {
      "cell_type": "code",
      "metadata": {
        "id": "gLz7M20LKd0q",
        "outputId": "3d95d6bc-eabc-4cdc-e118-0236243e9713",
        "colab": {
          "base_uri": "https://localhost:8080/"
        }
      },
      "source": [
        "! echo -e \"GET / HTTP/1.1\\r\\nHost: www.perdu.com\\r\\n\\r\\n\" | netcat -N www.perdu.com 80"
      ],
      "execution_count": 2,
      "outputs": [
        {
          "output_type": "stream",
          "name": "stdout",
          "text": [
            "HTTP/1.1 200 OK\r\n",
            "Date: Thu, 03 Feb 2022 03:13:26 GMT\r\n",
            "Server: Apache\r\n",
            "Upgrade: h2\r\n",
            "Connection: Upgrade\r\n",
            "Last-Modified: Thu, 02 Jun 2016 06:01:08 GMT\r\n",
            "ETag: \"cc-5344555136fe9\"\r\n",
            "Accept-Ranges: bytes\r\n",
            "Content-Length: 204\r\n",
            "Cache-Control: max-age=600\r\n",
            "Expires: Thu, 03 Feb 2022 03:23:26 GMT\r\n",
            "Vary: Accept-Encoding,User-Agent\r\n",
            "Content-Type: text/html\r\n",
            "\r\n",
            "<html><head><title>Vous Etes Perdu ?</title></head><body><h1>Perdu sur l'Internet ?</h1><h2>Pas de panique, on va vous aider</h2><strong><pre>    * <----- vous &ecirc;tes ici</pre></strong></body></html>\n"
          ]
        }
      ]
    },
    {
      "cell_type": "markdown",
      "metadata": {
        "id": "VdwBr_E57YkO"
      },
      "source": [
        "Harap diperhatikan: protokol HTTP mengharuskan setiap baris diakhiri dengan karakter \"\\r\\n\" (CR+LF)."
      ]
    },
    {
      "cell_type": "markdown",
      "metadata": {
        "id": "z8Xm0rkb53C0"
      },
      "source": [
        "## String Karakter\n",
        "\n",
        "Hati-hati, fungsi send()/recv() dari modul *socket* tidak menangani *str* tetapi *bytearray*:\n",
        "\n",
        "* https://docs.python.org/3/library/stdtypes.html#bytearray\n",
        "* https://docs.python.org/3/library/stdtypes.html#str\n",
        "\n"
      ]
    },
    {
      "cell_type": "code",
      "metadata": {
        "id": "f3nB9cxczlfw",
        "outputId": "5f07029b-5347-41e6-a2dc-437285d373a1",
        "colab": {
          "base_uri": "https://localhost:8080/"
        }
      },
      "source": [
        "s0 = \"coucou\"           # str object       \n",
        "b0 = b\"coucou\"          # bytearray (notez le préfixe b)\n",
        "b1 = s0.encode()        # convert str to bytearray\n",
        "s1 = b0.decode()        # convert bytearray to str (utf-8 encoding)\n",
        "print(\"s0 =\", s0)\n",
        "print(\"b0 =\", b0)"
      ],
      "execution_count": 3,
      "outputs": [
        {
          "output_type": "stream",
          "name": "stdout",
          "text": [
            "s0 = coucou\n",
            "b0 = b'coucou'\n"
          ]
        }
      ]
    },
    {
      "cell_type": "markdown",
      "metadata": {
        "id": "XfdW2yQR1atI"
      },
      "source": [
        "*string* yang diformat dengan Python:\n",
        "\n",
        "* https://docs.python.org/3/tutorial/inputoutput.html"
      ]
    },
    {
      "cell_type": "code",
      "metadata": {
        "id": "paXamFSN2R6A",
        "colab": {
          "base_uri": "https://localhost:8080/",
          "height": 35
        },
        "outputId": "20f700ee-2d89-4dae-abe6-bfd4b1ff9bc4"
      },
      "source": [
        "\"Hello, my name is {}!\".format(\"Adiratna\")"
      ],
      "execution_count": 4,
      "outputs": [
        {
          "output_type": "execute_result",
          "data": {
            "application/vnd.google.colaboratory.intrinsic+json": {
              "type": "string"
            },
            "text/plain": [
              "'Hello, my name is Adiratna!'"
            ]
          },
          "metadata": {},
          "execution_count": 4
        }
      ]
    },
    {
      "cell_type": "markdown",
      "metadata": {
        "id": "sSuzU2jjHU7T"
      },
      "source": [
        "## Modul Soket di Python3\n",
        "\n",
        "* https://docs.python.org/3/howto/sockets.html\n",
        "* https://docs.python.org/3/library/socket.html\n"
      ]
    },
    {
      "cell_type": "code",
      "metadata": {
        "id": "d07gOqPUHZMe"
      },
      "source": [
        "import socket"
      ],
      "execution_count": 5,
      "outputs": []
    },
    {
      "cell_type": "markdown",
      "metadata": {
        "id": "DBIzWUUf3BgX"
      },
      "source": [
        "Tidak mudah menemukan situs web yang masih menggunakan HTTP 1.0... Perhatikan pesan kesalahannya!"
      ]
    },
    {
      "cell_type": "markdown",
      "metadata": {
        "id": "pfh8o8Gj1TZB"
      },
      "source": [
        "## Klien HTTP 1.1\n",
        "\n",
        "Dalam versi HTTP 1.1-nya, bidang **Host** harus ditentukan di header permintaan HTTP. Selain itu, akan berguna untuk menyetel bidang **Connection** ke nilai **close** untuk memaksa penutupan koneksi TCP/IP, di akhir respons. Berikut cara menyiapkan HTTP request ke web server www.perdu.com (port 80):"
      ]
    },
    {
      "cell_type": "code",
      "metadata": {
        "id": "Lx68gLpO1XnL",
        "outputId": "d5c79a00-8b95-44ea-e40d-760650b10f27",
        "colab": {
          "base_uri": "https://localhost:8080/"
        }
      },
      "source": [
        "HOST = b'www.perdu.com'\n",
        "PORT = 80\n",
        "s = socket.socket(socket.AF_INET, socket.SOCK_STREAM)\n",
        "s.connect((HOST, PORT))\n",
        "request = b'GET / HTTP/1.1\\r\\n'\n",
        "request += b'Host: ' + HOST + b'\\r\\n'\n",
        "request += b'Connection: close\\r\\n'\n",
        "request += b'\\r\\n'\n",
        "print(request.decode())\n"
      ],
      "execution_count": 6,
      "outputs": [
        {
          "output_type": "stream",
          "name": "stdout",
          "text": [
            "GET / HTTP/1.1\r\n",
            "Host: www.perdu.com\r\n",
            "Connection: close\r\n",
            "\r\n",
            "\n"
          ]
        }
      ]
    },
    {
      "cell_type": "markdown",
      "metadata": {
        "id": "hEfXAba39P8M"
      },
      "source": [
        "Kirim permintaan dan terima 1024 karakter pertama dari tanggapan..."
      ]
    },
    {
      "cell_type": "code",
      "metadata": {
        "id": "rrXKnPi-9NuV",
        "outputId": "230d38bd-a706-436f-eb0a-aec5fa2b393e",
        "colab": {
          "base_uri": "https://localhost:8080/"
        }
      },
      "source": [
        "s.sendall(request)\n",
        "answer = s.recv(1024)\n",
        "print(answer.decode())\n",
        "s.close()\n"
      ],
      "execution_count": 7,
      "outputs": [
        {
          "output_type": "stream",
          "name": "stdout",
          "text": [
            "HTTP/1.1 200 OK\r\n",
            "Date: Thu, 03 Feb 2022 03:13:26 GMT\r\n",
            "Server: Apache\r\n",
            "Upgrade: h2\r\n",
            "Connection: Upgrade, close\r\n",
            "Last-Modified: Thu, 02 Jun 2016 06:01:08 GMT\r\n",
            "ETag: \"cc-5344555136fe9\"\r\n",
            "Accept-Ranges: bytes\r\n",
            "Content-Length: 204\r\n",
            "Cache-Control: max-age=600\r\n",
            "Expires: Thu, 03 Feb 2022 03:23:26 GMT\r\n",
            "Vary: Accept-Encoding,User-Agent\r\n",
            "Content-Type: text/html\r\n",
            "\r\n",
            "<html><head><title>Vous Etes Perdu ?</title></head><body><h1>Perdu sur l'Internet ?</h1><h2>Pas de panique, on va vous aider</h2><strong><pre>    * <----- vous &ecirc;tes ici</pre></strong></body></html>\n",
            "\n"
          ]
        }
      ]
    },
    {
      "cell_type": "markdown",
      "metadata": {
        "id": "Mwbuu19eGwKU"
      },
      "source": [
        "Jika kita ingin menerima respons dengan ukuran variabel, kita harus \"melakukan pengulangan\" hingga kita menerima respons kosong (karakteristik penutupan koneksi server)."
      ]
    },
    {
      "cell_type": "code",
      "metadata": {
        "id": "5Duq68SF4SwK",
        "outputId": "d5084fe9-1693-4265-8119-7b71666284a1",
        "colab": {
          "base_uri": "https://localhost:8080/",
          "height": 234
        }
      },
      "source": [
        "s.sendall(request)\n",
        "\n",
        "while True:\n",
        "    answer = s.recv(1024)\n",
        "    if answer == b'': break\n",
        "    print(answer.decode('utf-8'), end='')\n",
        "\n",
        "s.close()\n"
      ],
      "execution_count": 8,
      "outputs": [
        {
          "output_type": "error",
          "ename": "OSError",
          "evalue": "ignored",
          "traceback": [
            "\u001b[0;31m---------------------------------------------------------------------------\u001b[0m",
            "\u001b[0;31mOSError\u001b[0m                                   Traceback (most recent call last)",
            "\u001b[0;32m<ipython-input-8-e8448a8e0817>\u001b[0m in \u001b[0;36m<module>\u001b[0;34m()\u001b[0m\n\u001b[0;32m----> 1\u001b[0;31m \u001b[0ms\u001b[0m\u001b[0;34m.\u001b[0m\u001b[0msendall\u001b[0m\u001b[0;34m(\u001b[0m\u001b[0mrequest\u001b[0m\u001b[0;34m)\u001b[0m\u001b[0;34m\u001b[0m\u001b[0;34m\u001b[0m\u001b[0m\n\u001b[0m\u001b[1;32m      2\u001b[0m \u001b[0;34m\u001b[0m\u001b[0m\n\u001b[1;32m      3\u001b[0m \u001b[0;32mwhile\u001b[0m \u001b[0;32mTrue\u001b[0m\u001b[0;34m:\u001b[0m\u001b[0;34m\u001b[0m\u001b[0;34m\u001b[0m\u001b[0m\n\u001b[1;32m      4\u001b[0m     \u001b[0manswer\u001b[0m \u001b[0;34m=\u001b[0m \u001b[0ms\u001b[0m\u001b[0;34m.\u001b[0m\u001b[0mrecv\u001b[0m\u001b[0;34m(\u001b[0m\u001b[0;36m1024\u001b[0m\u001b[0;34m)\u001b[0m\u001b[0;34m\u001b[0m\u001b[0;34m\u001b[0m\u001b[0m\n\u001b[1;32m      5\u001b[0m     \u001b[0;32mif\u001b[0m \u001b[0manswer\u001b[0m \u001b[0;34m==\u001b[0m \u001b[0;34mb''\u001b[0m\u001b[0;34m:\u001b[0m \u001b[0;32mbreak\u001b[0m\u001b[0;34m\u001b[0m\u001b[0;34m\u001b[0m\u001b[0m\n",
            "\u001b[0;31mOSError\u001b[0m: [Errno 9] Bad file descriptor"
          ]
        }
      ]
    }
  ]
}